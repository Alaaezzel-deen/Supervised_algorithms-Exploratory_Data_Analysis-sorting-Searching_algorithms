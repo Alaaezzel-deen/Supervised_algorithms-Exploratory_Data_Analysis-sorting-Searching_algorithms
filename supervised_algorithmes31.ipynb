{
  "nbformat": 4,
  "nbformat_minor": 0,
  "metadata": {
    "colab": {
      "provenance": []
    },
    "kernelspec": {
      "name": "python3",
      "display_name": "Python 3"
    },
    "language_info": {
      "name": "python"
    }
  },
  "cells": [
    {
      "cell_type": "markdown",
      "source": [
        "Supervised algorithms include classification and regression. First, we will start with regression algorithms: Linear Regression and Polynomial Regression."
      ],
      "metadata": {
        "id": "m-kdFZOA8xX0"
      }
    },
    {
      "cell_type": "markdown",
      "source": [
        "____Linear Regression Summary\n",
        "\n",
        "Definition: A supervised learning algorithm that models the relationship between an independent variable (X) and a dependent variable (Y) using a straight line.\n",
        "\n",
        "Equation:\n",
        "\n",
        "Types: Simple Linear Regression (one independent variable), Multiple Linear Regression (multiple independent variables).\n",
        "\n",
        "Uses: Predicting house prices, estimating sales based on ads, analyzing salary vs. experience.\n",
        "\n",
        "Evaluation Metrics: MSE (Mean Squared Error), R² Score (Explains variance in data).\n",
        "\n",
        "Challenges: Autocorrelation (pattern in errors), multicollinearity (high correlation between variables), bias-variance tradeoff (balancing model complexity)."
      ],
      "metadata": {
        "id": "nfESg-MY9f-z"
      }
    },
    {
      "cell_type": "code",
      "source": [
        "#linearregresion\n",
        "import pandas as pd\n",
        "import numpy as np\n",
        "from sklearn.linear_model import LinearRegression\n",
        "from sklearn.model_selection import train_test_split\n",
        "from sklearn.metrics import mean_squared_error,r2_score\n",
        "df=pd.read_csv('/content/IRIS.csv')\n",
        "df=pd.get_dummies(df)\n",
        "x=df.drop(columns=['sepal_width'])\n",
        "y=df['sepal_width'].values.reshape(-1,1)\n",
        "x_train,x_test,y_train,y_test=train_test_split(x,y,test_size=0.2,random_state=0)\n",
        "object_=LinearRegression()\n",
        "train=object_.fit(x_train,y_train)\n",
        "y_pred=train.predict(x_test)\n",
        "mse=mean_squared_error(y_test,y_pred)\n",
        "r2=r2_score(y_test,y_pred)\n",
        "print(f' mean_squared_error={mse},r2_score= {r2}')"
      ],
      "metadata": {
        "colab": {
          "base_uri": "https://localhost:8080/"
        },
        "id": "4cCJL92I-E5Y",
        "outputId": "26514fe0-a544-4958-be0f-7ff95975485b"
      },
      "execution_count": 1,
      "outputs": [
        {
          "output_type": "stream",
          "name": "stdout",
          "text": [
            " mean_squared_error=0.052937128216538086,r2_score= 0.7268309420624719\n"
          ]
        }
      ]
    },
    {
      "cell_type": "markdown",
      "source": [
        "Polynomial Regression Summary\n",
        "\n",
        "Definition: An extension of linear regression that models the relationship between variables using a polynomial equation instead of a straight line.\n",
        "\n",
        "Equation:\n",
        "\n",
        "Purpose: Captures non-linear relationships that cannot be represented by simple linear regression.\n",
        "\n",
        "Uses: Predicting complex trends, modeling growth patterns, analyzing non-linear data relationships.\n",
        "\n",
        "Evaluation Metrics: MSE (Mean Squared Error), R² Score (Measures how well the model fits the data).\n",
        "\n",
        "Challenges: Overfitting with high-degree polynomials, sensitivity to noise, computational complexity."
      ],
      "metadata": {
        "id": "hk8rdg81AdCQ"
      }
    },
    {
      "cell_type": "code",
      "source": [
        "import pandas  as pd\n",
        "import numpy as np\n",
        "from sklearn.linear_model import LinearRegression\n",
        "from sklearn.model_selection import train_test_split\n",
        "from sklearn.preprocessing import PolynomialFeatures\n",
        "from sklearn.metrics import mean_squared_error,r2_score\n",
        "df=pd.read_csv('/content/IRIS.csv')\n",
        "df=pd.get_dummies(df,dtype=int)\n",
        "df=df.dropna()\n",
        "x=df.drop(columns=['petal_width'])\n",
        "y=df['petal_width'].values.reshape(-1,1)\n",
        "x_train,x_test,y_train,y_test=train_test_split(x,y,test_size=0.3,random_state=0)\n",
        "ploy=PolynomialFeatures(degree=2) # to x,x2 are new features\n",
        "x_train_ploy=ploy.fit_transform(x_train)\n",
        "linear=LinearRegression()\n",
        "train=linear.fit(x_train_ploy,y_train)\n",
        "test=ploy.transform(x_test)\n",
        "y_pred=train.predict(test)\n",
        "mse=mean_squared_error(y_test,y_pred)\n",
        "r2=r2_score(y_test,y_pred)\n",
        "print(mse,r2)"
      ],
      "metadata": {
        "colab": {
          "base_uri": "https://localhost:8080/"
        },
        "id": "SrXOrVy8-4QA",
        "outputId": "ba70f6ee-629a-4212-b5f9-dafff5cf6c77"
      },
      "execution_count": 2,
      "outputs": [
        {
          "output_type": "stream",
          "name": "stdout",
          "text": [
            "0.032200209797055214 0.9369995895275007\n"
          ]
        }
      ]
    },
    {
      "cell_type": "markdown",
      "source": [
        "now we will start with clssification algorithms"
      ],
      "metadata": {
        "id": "DZLSRuVGAl1i"
      }
    },
    {
      "cell_type": "markdown",
      "source": [
        "Logistic Regression Summary\n",
        "\n",
        "Definition: A supervised learning algorithm used for binary classification, predicting probabilities of categorical outcomes.\n",
        "\n",
        "Equation:\n",
        "\n",
        "Purpose: Estimates the probability of an event occurring and applies a threshold (e.g., 0.5) for classification.\n",
        "\n",
        "Uses: Spam detection, disease diagnosis, customer churn prediction.\n",
        "\n",
        "Evaluation Metrics: Accuracy, Precision, Recall, F1-Score, ROC-AUC.\n",
        "\n",
        "Challenges: Assumes a linear relationship between features and log-odds, sensitive to outliers, not suitable for complex non-linear patterns."
      ],
      "metadata": {
        "id": "-JR0Rg1sA8s-"
      }
    },
    {
      "cell_type": "code",
      "source": [
        "import pandas as pd\n",
        "import numpy as np\n",
        "from sklearn.linear_model import LogisticRegression\n",
        "from sklearn.model_selection import train_test_split\n",
        "from sklearn.metrics import accuracy_score\n",
        "df=pd.read_csv('/content/cars.csv')\n",
        "df=df.dropna()\n",
        "df = pd.get_dummies(df, dtype=int)\n",
        "x=df.drop(columns=['class_unacc','class_acc','class_good','class_vgood'])\n",
        "y=df['class_unacc'].to_numpy()\n",
        "x_train,x_test,y_train,y_test=train_test_split(x,y,test_size=0.3,random_state=0)\n",
        "cl=LogisticRegression()\n",
        "train=cl.fit(x_train,y_train)\n",
        "y_pred=cl.predict(x_test)\n",
        "acc=accuracy_score(y_test,y_pred)\n",
        "print(acc)"
      ],
      "metadata": {
        "colab": {
          "base_uri": "https://localhost:8080/"
        },
        "id": "x4fgniMJAhjA",
        "outputId": "491fed93-f68f-413e-f4ff-a4b3ea131cbf"
      },
      "execution_count": 3,
      "outputs": [
        {
          "output_type": "stream",
          "name": "stdout",
          "text": [
            "0.9441233140655106\n"
          ]
        }
      ]
    },
    {
      "cell_type": "markdown",
      "source": [
        "Decision Tree Summary\n",
        "\n",
        "Definition: A supervised learning algorithm used for classification and regression by splitting data into branches based on feature conditions.\n",
        "\n",
        "Structure: Consists of nodes (decision points), branches (choices), and leaves (final outcomes).\n",
        "\n",
        "Purpose: Creates a flowchart-like model to make decisions based on feature values.\n",
        "\n",
        "Uses: Medical diagnosis, credit risk assessment, customer segmentation.\n",
        "\n",
        "Evaluation Metrics: Accuracy, Gini Impurity, Entropy, Mean Squared Error (for regression).\n",
        "\n",
        "Challenges: Prone to overfitting, sensitive to noisy data, biased towards dominant classes."
      ],
      "metadata": {
        "id": "Z0p5lrOBEaMI"
      }
    },
    {
      "cell_type": "code",
      "source": [
        "import pandas as pd\n",
        "from sklearn import tree\n",
        "from sklearn.model_selection import train_test_split\n",
        "from sklearn.metrics import accuracy_score\n",
        "df=pd.read_csv('/content/IRIS.csv')\n",
        "df=df.dropna()\n",
        "df2=pd.get_dummies(df['species'])\n",
        "x=df.drop(columns=['species'])\n",
        "y=df2\n",
        "x_train,x_test,y_train,y_test=train_test_split(x , y,test_size=0.2,random_state=42)\n",
        "model=tree.DecisionTreeClassifier(max_depth=3)\n",
        "model.fit(x_train,y_train)\n",
        "y_pred=model.predict(x_test)\n",
        "accuracy=accuracy_score(y_test,y_pred)\n",
        "print(accuracy)"
      ],
      "metadata": {
        "colab": {
          "base_uri": "https://localhost:8080/"
        },
        "id": "c6HDLVmnENPo",
        "outputId": "7dae4840-7e15-49fe-b03d-e349623f6124"
      },
      "execution_count": 4,
      "outputs": [
        {
          "output_type": "stream",
          "name": "stdout",
          "text": [
            "0.9666666666666667\n"
          ]
        }
      ]
    },
    {
      "cell_type": "markdown",
      "source": [
        "Random Forest Summary\n",
        "\n",
        "Definition: An ensemble learning method that combines multiple decision trees to improve accuracy and reduce overfitting.\n",
        "\n",
        "How It Works: Creates multiple decision trees on random subsets of data and averages their predictions (for regression) or uses majority voting (for classification).\n",
        "\n",
        "Purpose: Increases model stability and generalization by reducing variance.\n",
        "\n",
        "Uses: Fraud detection, medical diagnosis, recommendation systems.\n",
        "\n",
        "Evaluation Metrics: Accuracy, Precision, Recall, F1-Score, Mean Squared Error (for regression).\n",
        "\n",
        "Challenges: Computationally expensive, less interpretable than a single decision tree, may struggle with high-dimensional sparse data."
      ],
      "metadata": {
        "id": "8kTaEbKqFCZi"
      }
    },
    {
      "cell_type": "code",
      "source": [
        "import pandas as pd\n",
        "from sklearn.ensemble import RandomForestClassifier\n",
        "from sklearn.model_selection import train_test_split\n",
        "from sklearn.metrics import accuracy_score\n",
        "df=pd.read_csv('/content/emails.csv')\n",
        "df=df.fillna(df.mode().iloc[0])\n",
        "df=pd.get_dummies(df)\n",
        "x=df.drop(columns=['Email No.','Prediction'],errors='ignore')\n",
        "y=df['Prediction']\n",
        "x_train,x_test,y_train,y_test=train_test_split(x,y,test_size=0.2,random_state=0)\n",
        "model=RandomForestClassifier(n_estimators=100,max_depth=10, random_state=0)\n",
        "model.fit(x_train,y_train)\n",
        "y_pred=model.predict(x_test)\n",
        "accuracy=accuracy_score(y_test,y_pred)\n",
        "print(accuracy)"
      ],
      "metadata": {
        "colab": {
          "base_uri": "https://localhost:8080/"
        },
        "id": "6BeGcgzhE4It",
        "outputId": "c5bb7d97-14d0-4c42-d61a-f0b19c07e467"
      },
      "execution_count": 5,
      "outputs": [
        {
          "output_type": "stream",
          "name": "stdout",
          "text": [
            "0.9130434782608695\n"
          ]
        }
      ]
    },
    {
      "cell_type": "markdown",
      "source": [
        "Naïve Bayes Summary\n",
        "\n",
        "Definition: A probabilistic classification algorithm based on Bayes' Theorem, assuming feature independence.\n",
        "\n",
        "Equation:\n",
        "\n",
        "\n",
        "P(Y|X) = \\frac{P(X|Y) P(Y)}{P(X)}\n",
        "\n",
        "Gaussian Naïve Bayes: For continuous data (assumes normal distribution).\n",
        "\n",
        "Multinomial Naïve Bayes: For text classification (word frequencies).\n",
        "\n",
        "Bernoulli Naïve Bayes: For binary feature data.\n",
        "\n",
        "Uses: Spam detection, sentiment analysis, medical diagnosis.\n",
        "\n",
        "Evaluation Metrics: Accuracy, Precision, Recall, F1-Score.\n",
        "\n",
        "Challenges: Assumes independence between features (rarely true in real data), sensitive to imbalanced data."
      ],
      "metadata": {
        "id": "x5e5lt4bGfD7"
      }
    },
    {
      "cell_type": "code",
      "source": [
        "import pandas as pd\n",
        "from sklearn.naive_bayes import GaussianNB\n",
        "from sklearn.model_selection import train_test_split\n",
        "from sklearn.metrics import accuracy_score\n",
        "df=pd.read_csv('/content/emails.csv')\n",
        "df=pd.get_dummies(df)\n",
        "x = df.drop(columns=['Email No.', 'Prediction'], errors='ignore')\n",
        "y=df['Prediction']\n",
        "x_train,x_test,y_train,y_test=train_test_split(x,y,test_size=0.2,random_state=0)\n",
        "model=GaussianNB()\n",
        "model.fit(x_train,y_train)\n",
        "y_pred=model.predict(x_test)\n",
        "accuracy=accuracy_score(y_test,y_pred)\n",
        "print(accuracy)"
      ],
      "metadata": {
        "colab": {
          "base_uri": "https://localhost:8080/"
        },
        "id": "49SepS3VF3Zg",
        "outputId": "9fe5c47e-7d06-422d-dbef-20b251789be4"
      },
      "execution_count": 6,
      "outputs": [
        {
          "output_type": "stream",
          "name": "stdout",
          "text": [
            "0.9410628019323671\n"
          ]
        }
      ]
    },
    {
      "cell_type": "code",
      "source": [],
      "metadata": {
        "id": "9fjse_orGpjD"
      },
      "execution_count": null,
      "outputs": []
    }
  ]
}